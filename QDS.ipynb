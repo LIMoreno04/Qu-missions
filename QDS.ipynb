{
 "cells": [
  {
   "cell_type": "markdown",
   "metadata": {
    "id": "OXWEsQT1S9oq"
   },
   "source": [
    "# Simplified Quantum Digital Signature (QDS) Simulation\n",
    "\n",
    "This repository contains a simplified implementation of a quantum digital signature (QDS) using the Qiskit library. The purpose is to demonstrate how to generate and measure a quantum signature using different quantum encoding bases. The code illustrates fundamental QDS concepts, such as encoding bits in random quantum bases and the influence of the chosen basis on the fidelity of the signature.\n",
    "\n",
    "The simulation follows these steps:\n",
    "\n",
    "- Message and random bases generation:\n",
    "A fixed-size message (in this example, 4 bits) is randomly generated. For each bit of the message, a quantum basis is also randomly chosen by the signer (the entity sending the signature). The possible bases are the computational basis (\n",
    "∣0⟩ and ∣1⟩ and the Hadamard basis (∣+⟩ and ∣−⟩).\n",
    "\n",
    "- Quantum encoding of the signature:\n",
    "Each bit of the message is encoded in the corresponding quantum state according to the signer's chosen basis. If the bit is 1, the X gate is applied (flipping )\n",
    "∣0⟩ to ∣1⟩. If the basis is Hadamard, the H gate is applied to place the qubit in superposition.\n",
    "\n",
    "- Measurement of the signature by the recipient:\n",
    "The recipient randomly chooses measurement bases for each qubit. If the measurement basis is Hadamard, the H gate is applied before measurement. All qubits are measured, and the results are stored in classical registers.\n",
    "\n",
    "- Simulation and results:\n",
    "The quantum circuit is executed on Qiskit's Aer simulator with multiple repetitions (shots) to gather statistics. The results show the correspondence between the states sent by the signer and the states measured by the recipient, allowing observation of how the choice of bases affects the signature.\n",
    "\n",
    "- Visualization:\n",
    "The code allows visualization of the quantum circuit in text format or color (using \"mpl\") and generates histograms showing the distribution of measurement outcomes.\n",
    "\n",
    "Summary:\n",
    "This simulation demonstrates the basic principles of a quantum digital signature:\n",
    "\n",
    "* Encoding in random quantum bases ensures security and allows verification of the signature's authenticity.\n",
    "\n",
    "* Measurement in different bases introduces uncertainty, reflecting fundamental properties of quantum mechanics.\n",
    "\n",
    "* Using a quantum simulator allows testing and visualizing the system's behavior without requiring physical hardware."
   ]
  },
  {
   "cell_type": "code",
   "execution_count": 3,
   "metadata": {
    "colab": {
     "base_uri": "https://localhost:8080/",
     "height": 478
    },
    "id": "jdIaP2b5KOth",
    "outputId": "331661c9-d45d-4d23-d152-da0b177b3091"
   },
   "outputs": [
    {
     "name": "stdout",
     "output_type": "stream",
     "text": [
      "Original Message:       [1, 0, 0, 1]\n",
      "Signer Bases:           [1, 0, 1, 0]\n",
      "Recipient Bases:        [1, 1, 1, 0]\n",
      "Quantum Signature:        ['|->', '|0>', '|+>', '|1>']\n",
      "Measurement Results:      {'1001': 560, '1011': 464}\n"
     ]
    },
    {
     "data": {
      "image/png": "[encoded data removed]",
      "text/plain": [
       "<Figure size 538.33x451.5 with 1 Axes>"
      ]
     },
     "execution_count": 3,
     "metadata": {},
     "output_type": "execute_result"
    }
   ],
   "source": [
    "from qiskit import QuantumCircuit, ClassicalRegister, QuantumRegister, transpile\n",
    "from qiskit_aer import AerSimulator\n",
    "from qiskit.visualization import plot_histogram\n",
    "import matplotlib.pyplot as plt\n",
    "import random\n",
    "\n",
    "def random_bits(n):\n",
    "    \"\"\"Generates a list of n random bits.\"\"\"\n",
    "    return [random.randint(0, 1) for _ in range(n)]\n",
    "\n",
    "def state_label(bit, base):\n",
    "    \"\"\"Returns the corresponding quantum state (the actual signature).\"\"\"\n",
    "    if base == 0:  # computational basis\n",
    "        return \"|0>\" if bit == 0 else \"|1>\"\n",
    "    else:          # Hadamard basis\n",
    "        return \"|+>\" if bit == 0 else \"|->\"\n",
    "\n",
    "def prepare_signature(bits, bases):\n",
    "    \"\"\"\n",
    "    Prepares the signature circuit.\n",
    "    \"\"\"\n",
    "    n = len(bits)\n",
    "    qreg = QuantumRegister(n, 'q')\n",
    "    creg = ClassicalRegister(n, 'c')\n",
    "    qc = QuantumCircuit(qreg, creg)\n",
    "\n",
    "    # Encode the bits in random bases\n",
    "    for i in range(n):\n",
    "        if bits[i] == 1:\n",
    "            qc.x(i)\n",
    "        if bases[i] == 1:\n",
    "            qc.h(i)\n",
    "    return qc\n",
    "\n",
    "def measure_signature(qc, recipient_bases):\n",
    "    \"\"\"\n",
    "    Measures the circuit in the bases chosen by the recipient.\n",
    "    \"\"\"\n",
    "    n = qc.num_qubits\n",
    "    meas_circ = qc.copy()\n",
    "    for i in range(n):\n",
    "        if recipient_bases[i] == 1:\n",
    "            meas_circ.h(i)\n",
    "    meas_circ.measure(range(n), range(n))\n",
    "    return meas_circ\n",
    "\n",
    "# --- Simulation ---\n",
    "sim = AerSimulator()\n",
    "\n",
    "# Example message (4 bits)\n",
    "message = random_bits(4)\n",
    "signature_bases = random_bits(len(message))  # signer's bases\n",
    "recipient_bases = random_bits(len(message))  # recipient's bases\n",
    "\n",
    "# Generate the \"quantum signature\"\n",
    "signature_states = [state_label(m, b) for m, b in zip(message, signature_bases)]\n",
    "\n",
    "# Create the signature circuit\n",
    "qc_signature = prepare_signature(message, signature_bases)\n",
    "\n",
    "# Create the measurement circuit\n",
    "qc_measure = measure_signature(qc_signature, recipient_bases)\n",
    "\n",
    "# Run the simulation\n",
    "compiled = transpile(qc_measure, sim)\n",
    "result = sim.run(compiled, shots=1024).result()\n",
    "counts = result.get_counts()\n",
    "\n",
    "# --- Results ---\n",
    "print(\"Original Message:      \", message)\n",
    "print(\"Signer Bases:          \", signature_bases)\n",
    "print(\"Recipient Bases:       \", recipient_bases)\n",
    "print(\"Quantum Signature:       \", signature_states)\n",
    "print(\"Measurement Results:     \", counts)\n",
    "\n",
    "plot_histogram(counts)\n",
    "plt.show()\n",
    "qc_measure.draw(output=\"mpl\")"
   ]
  }
 ],
 "metadata": {
  "colab": {
   "provenance": []
  },
  "kernelspec": {
   "display_name": "Python 3 (ipykernel)",
   "language": "python",
   "name": "python3"
  },
  "language_info": {
   "codemirror_mode": {
    "name": "ipython",
    "version": 3
   },
   "file_extension": ".py",
   "mimetype": "text/x-python",
   "name": "python",
   "nbconvert_exporter": "python",
   "pygments_lexer": "ipython3",
   "version": "3.12.3"
  }
 },
 "nbformat": 4,
 "nbformat_minor": 4
}
